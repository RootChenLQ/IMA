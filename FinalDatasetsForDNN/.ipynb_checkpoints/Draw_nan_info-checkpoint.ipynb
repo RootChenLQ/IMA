{
 "cells": [
  {
   "cell_type": "code",
   "execution_count": null,
   "metadata": {},
   "outputs": [],
   "source": [
    "import pandas as pd \n",
    "import missingno as msno \n",
    "import sys\n",
    "import os\n",
    "%matplotlib inline\n",
    "def get_nan_rate(df):\n",
    "    msno.matrix(df)\n",
    "    msno.heatmap(df)\n",
    "#     msno.bar(data)\n",
    "    l = []\n",
    "    size = len(df)\n",
    "    print(size)\n",
    "    for col in df.columns:\n",
    "        #print(col)\n",
    "        nan_num = df[[col]].isna().sum()\n",
    "        rate = nan_num/size\n",
    "        #print(nan_num)\n",
    "        l.append(rate.values[0]*100)\n",
    "        #print(rate*100)\n",
    "    s = pd.Series(l,index= df.columns)\n",
    "    print(s)\n",
    "print(os.getcwd())\n",
    "print('air pollution')\n",
    "aq_data = pd.read_csv(\"17_18aq.csv\")\n",
    "i=0\n",
    "for id in  aq_data['station_id'].unique():\n",
    "    print(i)\n",
    "    print(id)\n",
    "    i+=1\n",
    "    print(aq_data[aq_data['station_id']==id].shape)\n",
    "get_nan_rate(aq_data)\n",
    "print('meo')\n",
    "meo_data = pd.read_csv(\"beijing20142015/beijing14_15_meo.csv\")\n",
    "get_nan_rate(meo_data)"
   ]
  }
 ],
 "metadata": {
  "kernelspec": {
   "display_name": "Python 3",
   "language": "python",
   "name": "python3"
  },
  "language_info": {
   "codemirror_mode": {
    "name": "ipython",
    "version": 3
   },
   "file_extension": ".py",
   "mimetype": "text/x-python",
   "name": "python",
   "nbconvert_exporter": "python",
   "pygments_lexer": "ipython3",
   "version": "3.7.7"
  }
 },
 "nbformat": 4,
 "nbformat_minor": 4
}
